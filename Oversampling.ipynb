{
 "cells": [
  {
   "cell_type": "code",
   "execution_count": 142,
   "metadata": {},
   "outputs": [],
   "source": [
    "import numpy as np\n",
    "import pandas as pd\n",
    "from sklearn.utils import resample\n",
    "from sklearn.utils import shuffle"
   ]
  },
  {
   "cell_type": "code",
   "execution_count": 143,
   "metadata": {},
   "outputs": [],
   "source": [
    "df = pd.read_csv('.\\\\data\\\\covid\\\\bert-pair\\\\train_NLI_M.csv',sep='\\t',header=None)"
   ]
  },
  {
   "cell_type": "code",
   "execution_count": 144,
   "metadata": {},
   "outputs": [
    {
     "data": {
      "text/html": [
       "<div>\n",
       "<style scoped>\n",
       "    .dataframe tbody tr th:only-of-type {\n",
       "        vertical-align: middle;\n",
       "    }\n",
       "\n",
       "    .dataframe tbody tr th {\n",
       "        vertical-align: top;\n",
       "    }\n",
       "\n",
       "    .dataframe thead th {\n",
       "        text-align: right;\n",
       "    }\n",
       "</style>\n",
       "<table border=\"1\" class=\"dataframe\">\n",
       "  <thead>\n",
       "    <tr style=\"text-align: right;\">\n",
       "      <th></th>\n",
       "      <th>0</th>\n",
       "      <th>1</th>\n",
       "      <th>2</th>\n",
       "      <th>3</th>\n",
       "    </tr>\n",
       "  </thead>\n",
       "  <tbody>\n",
       "    <tr>\n",
       "      <th>0</th>\n",
       "      <td>1223441328819838976</td>\n",
       "      <td>unrelated</td>\n",
       "      <td>politics</td>\n",
       "      <td>JUST POSTED: President Trump's meddling in inv...</td>\n",
       "    </tr>\n",
       "    <tr>\n",
       "      <th>1</th>\n",
       "      <td>1223441328819838976</td>\n",
       "      <td>unrelated</td>\n",
       "      <td>economy</td>\n",
       "      <td>JUST POSTED: President Trump's meddling in inv...</td>\n",
       "    </tr>\n",
       "    <tr>\n",
       "      <th>2</th>\n",
       "      <td>1223441328819838976</td>\n",
       "      <td>unrelated</td>\n",
       "      <td>foreign</td>\n",
       "      <td>JUST POSTED: President Trump's meddling in inv...</td>\n",
       "    </tr>\n",
       "    <tr>\n",
       "      <th>3</th>\n",
       "      <td>1223441328819838976</td>\n",
       "      <td>unrelated</td>\n",
       "      <td>culture</td>\n",
       "      <td>JUST POSTED: President Trump's meddling in inv...</td>\n",
       "    </tr>\n",
       "    <tr>\n",
       "      <th>4</th>\n",
       "      <td>1223441328819838976</td>\n",
       "      <td>unrelated</td>\n",
       "      <td>situation</td>\n",
       "      <td>JUST POSTED: President Trump's meddling in inv...</td>\n",
       "    </tr>\n",
       "    <tr>\n",
       "      <th>...</th>\n",
       "      <td>...</td>\n",
       "      <td>...</td>\n",
       "      <td>...</td>\n",
       "      <td>...</td>\n",
       "    </tr>\n",
       "    <tr>\n",
       "      <th>40275</th>\n",
       "      <td>1225404752101400576</td>\n",
       "      <td>unrelated</td>\n",
       "      <td>culture</td>\n",
       "      <td>China holds millions of Muslims in concentrati...</td>\n",
       "    </tr>\n",
       "    <tr>\n",
       "      <th>40276</th>\n",
       "      <td>1225404752101400576</td>\n",
       "      <td>unrelated</td>\n",
       "      <td>situation</td>\n",
       "      <td>China holds millions of Muslims in concentrati...</td>\n",
       "    </tr>\n",
       "    <tr>\n",
       "      <th>40277</th>\n",
       "      <td>1225404752101400576</td>\n",
       "      <td>unrelated</td>\n",
       "      <td>measures</td>\n",
       "      <td>China holds millions of Muslims in concentrati...</td>\n",
       "    </tr>\n",
       "    <tr>\n",
       "      <th>40278</th>\n",
       "      <td>1225404752101400576</td>\n",
       "      <td>unrelated</td>\n",
       "      <td>racism</td>\n",
       "      <td>China holds millions of Muslims in concentrati...</td>\n",
       "    </tr>\n",
       "    <tr>\n",
       "      <th>40279</th>\n",
       "      <td>1225404752101400576</td>\n",
       "      <td>negative</td>\n",
       "      <td>overall</td>\n",
       "      <td>China holds millions of Muslims in concentrati...</td>\n",
       "    </tr>\n",
       "  </tbody>\n",
       "</table>\n",
       "<p>40280 rows × 4 columns</p>\n",
       "</div>"
      ],
      "text/plain": [
       "                         0          1          2  \\\n",
       "0      1223441328819838976  unrelated   politics   \n",
       "1      1223441328819838976  unrelated    economy   \n",
       "2      1223441328819838976  unrelated    foreign   \n",
       "3      1223441328819838976  unrelated    culture   \n",
       "4      1223441328819838976  unrelated  situation   \n",
       "...                    ...        ...        ...   \n",
       "40275  1225404752101400576  unrelated    culture   \n",
       "40276  1225404752101400576  unrelated  situation   \n",
       "40277  1225404752101400576  unrelated   measures   \n",
       "40278  1225404752101400576  unrelated     racism   \n",
       "40279  1225404752101400576   negative    overall   \n",
       "\n",
       "                                                       3  \n",
       "0      JUST POSTED: President Trump's meddling in inv...  \n",
       "1      JUST POSTED: President Trump's meddling in inv...  \n",
       "2      JUST POSTED: President Trump's meddling in inv...  \n",
       "3      JUST POSTED: President Trump's meddling in inv...  \n",
       "4      JUST POSTED: President Trump's meddling in inv...  \n",
       "...                                                  ...  \n",
       "40275  China holds millions of Muslims in concentrati...  \n",
       "40276  China holds millions of Muslims in concentrati...  \n",
       "40277  China holds millions of Muslims in concentrati...  \n",
       "40278  China holds millions of Muslims in concentrati...  \n",
       "40279  China holds millions of Muslims in concentrati...  \n",
       "\n",
       "[40280 rows x 4 columns]"
      ]
     },
     "execution_count": 144,
     "metadata": {},
     "output_type": "execute_result"
    }
   ],
   "source": [
    "df"
   ]
  },
  {
   "cell_type": "code",
   "execution_count": 145,
   "metadata": {},
   "outputs": [],
   "source": [
    "sentiments = list(df[1].drop_duplicates())"
   ]
  },
  {
   "cell_type": "code",
   "execution_count": 146,
   "metadata": {
    "scrolled": true
   },
   "outputs": [
    {
     "name": "stdout",
     "output_type": "stream",
     "text": [
      "Sentiment unrelated  33439/40280 83.01%\n",
      "Sentiment negative    3402/40280 8.445%\n",
      "Sentiment neutral     3052/40280 7.576%\n",
      "Sentiment positive     387/40280 0.960%\n"
     ]
    }
   ],
   "source": [
    "for sentiment in sentiments:\n",
    "    count=df[df[1]==sentiment].shape[0]\n",
    "    total = df.shape[0]\n",
    "    percent = str(count*100/total)[:5]\n",
    "    print(f\"Sentiment {sentiment:10} {count:5}/{total} {percent}%\" )"
   ]
  },
  {
   "cell_type": "code",
   "execution_count": 147,
   "metadata": {},
   "outputs": [],
   "source": [
    "unrelated, negative, neutral, positive = None, None, None, None\n",
    "d = dict(zip(['unrelated', 'negative', 'neutral', 'positive'],[unrelated, negative, neutral, positive]))\n",
    "over_size=round(df.shape[0]/len(d))\n",
    "for k,v in d.items():\n",
    "    d[k] = resample(df[df[1]==k], n_samples=over_size, random_state=0)\n",
    "sampled_df = pd.concat(list(d.values()))"
   ]
  },
  {
   "cell_type": "code",
   "execution_count": 148,
   "metadata": {},
   "outputs": [
    {
     "data": {
      "text/html": [
       "<div>\n",
       "<style scoped>\n",
       "    .dataframe tbody tr th:only-of-type {\n",
       "        vertical-align: middle;\n",
       "    }\n",
       "\n",
       "    .dataframe tbody tr th {\n",
       "        vertical-align: top;\n",
       "    }\n",
       "\n",
       "    .dataframe thead th {\n",
       "        text-align: right;\n",
       "    }\n",
       "</style>\n",
       "<table border=\"1\" class=\"dataframe\">\n",
       "  <thead>\n",
       "    <tr style=\"text-align: right;\">\n",
       "      <th></th>\n",
       "      <th>0</th>\n",
       "      <th>1</th>\n",
       "      <th>2</th>\n",
       "      <th>3</th>\n",
       "    </tr>\n",
       "  </thead>\n",
       "  <tbody>\n",
       "    <tr>\n",
       "      <th>3285</th>\n",
       "      <td>1230541402712477696</td>\n",
       "      <td>unrelated</td>\n",
       "      <td>measures</td>\n",
       "      <td>What is doing china with Chinese Muslims , atr...</td>\n",
       "    </tr>\n",
       "    <tr>\n",
       "      <th>25604</th>\n",
       "      <td>1235173620332122112</td>\n",
       "      <td>unrelated</td>\n",
       "      <td>situation</td>\n",
       "      <td>They're fully predictable. The tropes and Pavl...</td>\n",
       "    </tr>\n",
       "    <tr>\n",
       "      <th>36614</th>\n",
       "      <td>1221430895803916288</td>\n",
       "      <td>unrelated</td>\n",
       "      <td>racism</td>\n",
       "      <td>Just entered Hubei Province where the #coronar...</td>\n",
       "    </tr>\n",
       "    <tr>\n",
       "      <th>38676</th>\n",
       "      <td>1221611153438269440</td>\n",
       "      <td>unrelated</td>\n",
       "      <td>situation</td>\n",
       "      <td>📰”BTS's #Jungkook Chinese fans has donated mon...</td>\n",
       "    </tr>\n",
       "    <tr>\n",
       "      <th>25038</th>\n",
       "      <td>1223760389944397824</td>\n",
       "      <td>unrelated</td>\n",
       "      <td>racism</td>\n",
       "      <td>Jia You, Wuhan! Chinese netizens mixed picture...</td>\n",
       "    </tr>\n",
       "    <tr>\n",
       "      <th>...</th>\n",
       "      <td>...</td>\n",
       "      <td>...</td>\n",
       "      <td>...</td>\n",
       "      <td>...</td>\n",
       "    </tr>\n",
       "    <tr>\n",
       "      <th>15669</th>\n",
       "      <td>1232192334156222464</td>\n",
       "      <td>positive</td>\n",
       "      <td>measures</td>\n",
       "      <td>Hundreds of Chinese blocked the bank's headqua...</td>\n",
       "    </tr>\n",
       "    <tr>\n",
       "      <th>7349</th>\n",
       "      <td>1235180164910374912</td>\n",
       "      <td>positive</td>\n",
       "      <td>measures</td>\n",
       "      <td>#OrangeCounty Two new cases, with (very unfort...</td>\n",
       "    </tr>\n",
       "    <tr>\n",
       "      <th>24165</th>\n",
       "      <td>1223240446094336000</td>\n",
       "      <td>positive</td>\n",
       "      <td>measures</td>\n",
       "      <td>Philbin just said that Trump didn’t request an...</td>\n",
       "    </tr>\n",
       "    <tr>\n",
       "      <th>22797</th>\n",
       "      <td>1244112489819799552</td>\n",
       "      <td>positive</td>\n",
       "      <td>measures</td>\n",
       "      <td>Lesson from China: It locked down Wuhan city w...</td>\n",
       "    </tr>\n",
       "    <tr>\n",
       "      <th>37367</th>\n",
       "      <td>1248548642241286144</td>\n",
       "      <td>positive</td>\n",
       "      <td>overall</td>\n",
       "      <td>The EU and China have been working together si...</td>\n",
       "    </tr>\n",
       "  </tbody>\n",
       "</table>\n",
       "<p>40280 rows × 4 columns</p>\n",
       "</div>"
      ],
      "text/plain": [
       "                         0          1          2  \\\n",
       "3285   1230541402712477696  unrelated   measures   \n",
       "25604  1235173620332122112  unrelated  situation   \n",
       "36614  1221430895803916288  unrelated     racism   \n",
       "38676  1221611153438269440  unrelated  situation   \n",
       "25038  1223760389944397824  unrelated     racism   \n",
       "...                    ...        ...        ...   \n",
       "15669  1232192334156222464   positive   measures   \n",
       "7349   1235180164910374912   positive   measures   \n",
       "24165  1223240446094336000   positive   measures   \n",
       "22797  1244112489819799552   positive   measures   \n",
       "37367  1248548642241286144   positive    overall   \n",
       "\n",
       "                                                       3  \n",
       "3285   What is doing china with Chinese Muslims , atr...  \n",
       "25604  They're fully predictable. The tropes and Pavl...  \n",
       "36614  Just entered Hubei Province where the #coronar...  \n",
       "38676  📰”BTS's #Jungkook Chinese fans has donated mon...  \n",
       "25038  Jia You, Wuhan! Chinese netizens mixed picture...  \n",
       "...                                                  ...  \n",
       "15669  Hundreds of Chinese blocked the bank's headqua...  \n",
       "7349   #OrangeCounty Two new cases, with (very unfort...  \n",
       "24165  Philbin just said that Trump didn’t request an...  \n",
       "22797  Lesson from China: It locked down Wuhan city w...  \n",
       "37367  The EU and China have been working together si...  \n",
       "\n",
       "[40280 rows x 4 columns]"
      ]
     },
     "execution_count": 148,
     "metadata": {},
     "output_type": "execute_result"
    }
   ],
   "source": [
    "sampled_df"
   ]
  },
  {
   "cell_type": "code",
   "execution_count": 149,
   "metadata": {},
   "outputs": [
    {
     "name": "stdout",
     "output_type": "stream",
     "text": [
      "Sentiment unrelated  10070/40280 25.0%\n",
      "Sentiment negative   10070/40280 25.0%\n",
      "Sentiment neutral    10070/40280 25.0%\n",
      "Sentiment positive   10070/40280 25.0%\n"
     ]
    }
   ],
   "source": [
    "df,sampled_df = sampled_df,df\n",
    "for sentiment in sentiments:\n",
    "    count=df[df[1]==sentiment].shape[0]\n",
    "    total = df.shape[0]\n",
    "    percent = str(count*100/total)[:5]\n",
    "    print(f\"Sentiment {sentiment:10} {count:5}/{total} {percent}%\" )\n",
    "sampled_df,df = df,sampled_df"
   ]
  },
  {
   "cell_type": "code",
   "execution_count": 150,
   "metadata": {},
   "outputs": [],
   "source": [
    "shuffled_df = shuffle(sampled_df, n_samples=len(sampled_df), random_state=0)"
   ]
  },
  {
   "cell_type": "code",
   "execution_count": 151,
   "metadata": {},
   "outputs": [],
   "source": [
    "shuffled_df.to_csv(\"./data/covid/bert-pair/train_NLI_M_Sampled.csv\", sep='\\t', index=False, header=False)"
   ]
  },
  {
   "cell_type": "code",
   "execution_count": 152,
   "metadata": {
    "scrolled": true
   },
   "outputs": [
    {
     "data": {
      "text/plain": [
       "32139    unrelated\n",
       "23271     negative\n",
       "19845     positive\n",
       "24439      neutral\n",
       "Name: 1, dtype: object"
      ]
     },
     "execution_count": 152,
     "metadata": {},
     "output_type": "execute_result"
    }
   ],
   "source": [
    "shuffled_df[1].drop_duplicates()"
   ]
  },
  {
   "cell_type": "code",
   "execution_count": 153,
   "metadata": {},
   "outputs": [
    {
     "name": "stdout",
     "output_type": "stream",
     "text": [
      "Sentiment unrelated  10070/40280 25.0%\n",
      "Sentiment negative   10070/40280 25.0%\n",
      "Sentiment neutral    10070/40280 25.0%\n",
      "Sentiment positive   10070/40280 25.0%\n"
     ]
    }
   ],
   "source": [
    "df,shuffled_df = shuffled_df,df\n",
    "for sentiment in sentiments:\n",
    "    count=df[df[1]==sentiment].shape[0]\n",
    "    total = df.shape[0]\n",
    "    percent = str(count*100/total)[:5]\n",
    "    print(f\"Sentiment {sentiment:10} {count:5}/{total} {percent}%\" )\n",
    "shuffled_df,df = df,shuffled_df"
   ]
  },
  {
   "cell_type": "code",
   "execution_count": 154,
   "metadata": {},
   "outputs": [
    {
     "data": {
      "text/plain": [
       "(10070, 10070, 10070, 10070)"
      ]
     },
     "execution_count": 154,
     "metadata": {},
     "output_type": "execute_result"
    }
   ],
   "source": [
    "(shuffled_df[1]=='unrelated').sum(),(shuffled_df[1]=='negative').sum(),(shuffled_df[1]=='positive').sum(),(shuffled_df[1]=='neutral').sum()\n"
   ]
  },
  {
   "cell_type": "code",
   "execution_count": 155,
   "metadata": {},
   "outputs": [
    {
     "data": {
      "text/plain": [
       "['unrelated', 'negative', 'neutral', 'positive']"
      ]
     },
     "execution_count": 155,
     "metadata": {},
     "output_type": "execute_result"
    }
   ],
   "source": [
    "sentiments"
   ]
  },
  {
   "cell_type": "code",
   "execution_count": 156,
   "metadata": {},
   "outputs": [
    {
     "data": {
      "text/html": [
       "<div>\n",
       "<style scoped>\n",
       "    .dataframe tbody tr th:only-of-type {\n",
       "        vertical-align: middle;\n",
       "    }\n",
       "\n",
       "    .dataframe tbody tr th {\n",
       "        vertical-align: top;\n",
       "    }\n",
       "\n",
       "    .dataframe thead th {\n",
       "        text-align: right;\n",
       "    }\n",
       "</style>\n",
       "<table border=\"1\" class=\"dataframe\">\n",
       "  <thead>\n",
       "    <tr style=\"text-align: right;\">\n",
       "      <th></th>\n",
       "      <th>0</th>\n",
       "      <th>1</th>\n",
       "      <th>2</th>\n",
       "      <th>3</th>\n",
       "    </tr>\n",
       "  </thead>\n",
       "  <tbody>\n",
       "    <tr>\n",
       "      <th>32139</th>\n",
       "      <td>1224775207153324032</td>\n",
       "      <td>unrelated</td>\n",
       "      <td>culture</td>\n",
       "      <td>#BREAKINGNEWS: The first Malaysian positive to...</td>\n",
       "    </tr>\n",
       "    <tr>\n",
       "      <th>38265</th>\n",
       "      <td>1243617679316897792</td>\n",
       "      <td>unrelated</td>\n",
       "      <td>economy</td>\n",
       "      <td>Taiwan wrote to WHO on 31st December asking ab...</td>\n",
       "    </tr>\n",
       "    <tr>\n",
       "      <th>23271</th>\n",
       "      <td>1235305688429101056</td>\n",
       "      <td>negative</td>\n",
       "      <td>overall</td>\n",
       "      <td>\"CCP has done more damage to China’s prospects...</td>\n",
       "    </tr>\n",
       "    <tr>\n",
       "      <th>19845</th>\n",
       "      <td>1235047011985936384</td>\n",
       "      <td>positive</td>\n",
       "      <td>measures</td>\n",
       "      <td>INTENSIVE CONTACT TRACING — apparently Wuhan h...</td>\n",
       "    </tr>\n",
       "    <tr>\n",
       "      <th>29552</th>\n",
       "      <td>1228739765496840192</td>\n",
       "      <td>unrelated</td>\n",
       "      <td>politics</td>\n",
       "      <td>@helloimbry_ @ZAZC_x @TradReality @BurningDryI...</td>\n",
       "    </tr>\n",
       "    <tr>\n",
       "      <th>...</th>\n",
       "      <td>...</td>\n",
       "      <td>...</td>\n",
       "      <td>...</td>\n",
       "      <td>...</td>\n",
       "    </tr>\n",
       "    <tr>\n",
       "      <th>10903</th>\n",
       "      <td>1222067405855297536</td>\n",
       "      <td>neutral</td>\n",
       "      <td>overall</td>\n",
       "      <td>Wuhan evacuation: US and Japan to fly out citi...</td>\n",
       "    </tr>\n",
       "    <tr>\n",
       "      <th>39389</th>\n",
       "      <td>1225547111439228928</td>\n",
       "      <td>positive</td>\n",
       "      <td>measures</td>\n",
       "      <td>China's system is the reason the virus hasn't ...</td>\n",
       "    </tr>\n",
       "    <tr>\n",
       "      <th>22815</th>\n",
       "      <td>1234740118742716416</td>\n",
       "      <td>positive</td>\n",
       "      <td>overall</td>\n",
       "      <td>How is it that China can do this, but we, the ...</td>\n",
       "    </tr>\n",
       "    <tr>\n",
       "      <th>15029</th>\n",
       "      <td>1229189910097096704</td>\n",
       "      <td>neutral</td>\n",
       "      <td>measures</td>\n",
       "      <td>760,000,000 under some kind of residential loc...</td>\n",
       "    </tr>\n",
       "    <tr>\n",
       "      <th>31841</th>\n",
       "      <td>1231143222778396672</td>\n",
       "      <td>unrelated</td>\n",
       "      <td>economy</td>\n",
       "      <td>The sharp rise in Hubei #coronavirus cases is ...</td>\n",
       "    </tr>\n",
       "  </tbody>\n",
       "</table>\n",
       "<p>40280 rows × 4 columns</p>\n",
       "</div>"
      ],
      "text/plain": [
       "                         0          1         2  \\\n",
       "32139  1224775207153324032  unrelated   culture   \n",
       "38265  1243617679316897792  unrelated   economy   \n",
       "23271  1235305688429101056   negative   overall   \n",
       "19845  1235047011985936384   positive  measures   \n",
       "29552  1228739765496840192  unrelated  politics   \n",
       "...                    ...        ...       ...   \n",
       "10903  1222067405855297536    neutral   overall   \n",
       "39389  1225547111439228928   positive  measures   \n",
       "22815  1234740118742716416   positive   overall   \n",
       "15029  1229189910097096704    neutral  measures   \n",
       "31841  1231143222778396672  unrelated   economy   \n",
       "\n",
       "                                                       3  \n",
       "32139  #BREAKINGNEWS: The first Malaysian positive to...  \n",
       "38265  Taiwan wrote to WHO on 31st December asking ab...  \n",
       "23271  \"CCP has done more damage to China’s prospects...  \n",
       "19845  INTENSIVE CONTACT TRACING — apparently Wuhan h...  \n",
       "29552  @helloimbry_ @ZAZC_x @TradReality @BurningDryI...  \n",
       "...                                                  ...  \n",
       "10903  Wuhan evacuation: US and Japan to fly out citi...  \n",
       "39389  China's system is the reason the virus hasn't ...  \n",
       "22815  How is it that China can do this, but we, the ...  \n",
       "15029  760,000,000 under some kind of residential loc...  \n",
       "31841  The sharp rise in Hubei #coronavirus cases is ...  \n",
       "\n",
       "[40280 rows x 4 columns]"
      ]
     },
     "execution_count": 156,
     "metadata": {},
     "output_type": "execute_result"
    }
   ],
   "source": [
    "shuffled_df"
   ]
  },
  {
   "cell_type": "code",
   "execution_count": null,
   "metadata": {},
   "outputs": [],
   "source": []
  },
  {
   "cell_type": "code",
   "execution_count": null,
   "metadata": {},
   "outputs": [],
   "source": []
  }
 ],
 "metadata": {
  "kernelspec": {
   "display_name": "Python 3",
   "language": "python",
   "name": "python3"
  },
  "language_info": {
   "codemirror_mode": {
    "name": "ipython",
    "version": 3
   },
   "file_extension": ".py",
   "mimetype": "text/x-python",
   "name": "python",
   "nbconvert_exporter": "python",
   "pygments_lexer": "ipython3",
   "version": "3.7.2"
  }
 },
 "nbformat": 4,
 "nbformat_minor": 4
}
